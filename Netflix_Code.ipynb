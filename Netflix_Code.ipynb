{
  "nbformat": 4,
  "nbformat_minor": 0,
  "metadata": {
    "colab": {
      "name": "Netflix Code.ipynb",
      "provenance": [],
      "mount_file_id": "1GfQjcG7GqkeozGr6pX0V2eyU-w7_k-5w",
      "authorship_tag": "ABX9TyPunHulseR+BJuObWmLuwD1",
      "include_colab_link": true
    },
    "kernelspec": {
      "name": "python3",
      "display_name": "Python 3"
    },
    "language_info": {
      "name": "python"
    }
  },
  "cells": [
    {
      "cell_type": "markdown",
      "metadata": {
        "id": "view-in-github",
        "colab_type": "text"
      },
      "source": [
        "<a href=\"https://colab.research.google.com/github/Sebastiantenb/Covid-Vaccination-Kaggle-Project/blob/main/Netflix_Code.ipynb\" target=\"_parent\"><img src=\"https://colab.research.google.com/assets/colab-badge.svg\" alt=\"Open In Colab\"/></a>"
      ]
    },
    {
      "cell_type": "code",
      "metadata": {
        "id": "Qo1GZgyigIO1"
      },
      "source": [
        "#importing packages\n",
        "import numpy as np\n",
        "import pandas as pd \n",
        "import matplotlib.pyplot as plt\n",
        "import seaborn as sns\n",
        "\n",
        "import plotly.express as px\n",
        "import plotly.graph_objects as go\n",
        "from plotly.subplots import make_subplots\n",
        "import matplotlib.pyplot as plt"
      ],
      "execution_count": 1,
      "outputs": []
    },
    {
      "cell_type": "code",
      "metadata": {
        "id": "E4Rx-WxRgdzY",
        "colab": {
          "base_uri": "https://localhost:8080/"
        },
        "outputId": "85d30e68-9d31-45f3-dfcb-d6e5c1a97051"
      },
      "source": [
        "from google.colab import drive\n",
        "drive.mount('/gdrive')"
      ],
      "execution_count": 2,
      "outputs": [
        {
          "output_type": "stream",
          "name": "stdout",
          "text": [
            "Mounted at /gdrive\n"
          ]
        }
      ]
    },
    {
      "cell_type": "code",
      "metadata": {
        "id": "0VOfKw4RmJfA"
      },
      "source": [
        "intercation_df =pd.read_csv('/content/drive/MyDrive/code/GDPR Data/Netflix/netflix-report/CONTENT_INTERACTION/ViewingActivity.csv')\n",
        "ratings_df =pd.read_csv('/content/drive/MyDrive/code/GDPR Data/Netflix/netflix-report/CONTENT_INTERACTION/Ratings.csv')\n",
        "interactivetitles_df =pd.read_csv('/content/drive/MyDrive/code/GDPR Data/Netflix/netflix-report/CONTENT_INTERACTION/InteractiveTitles.csv')\n",
        "mylist_df =pd.read_csv('/content/drive/MyDrive/code/GDPR Data/Netflix/netflix-report/CONTENT_INTERACTION/MyList.csv')\n",
        "search_history_df =pd.read_csv('/content/drive/MyDrive/code/GDPR Data/Netflix/netflix-report/CONTENT_INTERACTION/SearchHistory.csv')\n",
        "Playback_Related_Events_df =pd.read_csv('/content/drive/MyDrive/code/GDPR Data/Netflix/netflix-report/CONTENT_INTERACTION/PlaybackRelatedEvents.csv')"
      ],
      "execution_count": 11,
      "outputs": []
    },
    {
      "cell_type": "code",
      "metadata": {
        "colab": {
          "base_uri": "https://localhost:8080/",
          "height": 411
        },
        "id": "ARxA-56HnsqP",
        "outputId": "c8251554-b97b-4805-ff91-dab7c3080e8f"
      },
      "source": [
        "intercation_df.head()"
      ],
      "execution_count": 7,
      "outputs": [
        {
          "output_type": "execute_result",
          "data": {
            "text/html": [
              "<div>\n",
              "<style scoped>\n",
              "    .dataframe tbody tr th:only-of-type {\n",
              "        vertical-align: middle;\n",
              "    }\n",
              "\n",
              "    .dataframe tbody tr th {\n",
              "        vertical-align: top;\n",
              "    }\n",
              "\n",
              "    .dataframe thead th {\n",
              "        text-align: right;\n",
              "    }\n",
              "</style>\n",
              "<table border=\"1\" class=\"dataframe\">\n",
              "  <thead>\n",
              "    <tr style=\"text-align: right;\">\n",
              "      <th></th>\n",
              "      <th>Profile Name</th>\n",
              "      <th>Start Time</th>\n",
              "      <th>Duration</th>\n",
              "      <th>Attributes</th>\n",
              "      <th>Title</th>\n",
              "      <th>Supplemental Video Type</th>\n",
              "      <th>Device Type</th>\n",
              "      <th>Bookmark</th>\n",
              "      <th>Latest Bookmark</th>\n",
              "      <th>Country</th>\n",
              "    </tr>\n",
              "  </thead>\n",
              "  <tbody>\n",
              "    <tr>\n",
              "      <th>0</th>\n",
              "      <td>Johan</td>\n",
              "      <td>2021-09-23 19:27:38</td>\n",
              "      <td>00:00:13</td>\n",
              "      <td>Autoplayed: user action: None;</td>\n",
              "      <td>The English Game (Trailer)</td>\n",
              "      <td>TRAILER</td>\n",
              "      <td>Apple iPhone 8 (GSM)</td>\n",
              "      <td>00:00:14</td>\n",
              "      <td>00:00:14</td>\n",
              "      <td>NL (Netherlands)</td>\n",
              "    </tr>\n",
              "    <tr>\n",
              "      <th>1</th>\n",
              "      <td>Johan</td>\n",
              "      <td>2021-09-23 19:26:23</td>\n",
              "      <td>00:00:10</td>\n",
              "      <td>Autoplayed: user action: None;</td>\n",
              "      <td>Damnation: Säsong 1 (Trailer)</td>\n",
              "      <td>TRAILER</td>\n",
              "      <td>Apple iPhone 8 (GSM)</td>\n",
              "      <td>00:00:11</td>\n",
              "      <td>00:00:11</td>\n",
              "      <td>NL (Netherlands)</td>\n",
              "    </tr>\n",
              "    <tr>\n",
              "      <th>2</th>\n",
              "      <td>Johan</td>\n",
              "      <td>2021-09-23 19:26:05</td>\n",
              "      <td>00:00:14</td>\n",
              "      <td>Autoplayed: user action: None;</td>\n",
              "      <td>FIREFLYLANE_S1_CLIP_GENRE</td>\n",
              "      <td>HOOK</td>\n",
              "      <td>Apple iPhone 8 (GSM)</td>\n",
              "      <td>00:00:15</td>\n",
              "      <td>00:00:15</td>\n",
              "      <td>NL (Netherlands)</td>\n",
              "    </tr>\n",
              "    <tr>\n",
              "      <th>3</th>\n",
              "      <td>Johan</td>\n",
              "      <td>2021-09-22 20:31:07</td>\n",
              "      <td>00:00:07</td>\n",
              "      <td>Autoplayed: user action: None;</td>\n",
              "      <td>Säsong 3 (Trailer): Sex Education</td>\n",
              "      <td>TRAILER</td>\n",
              "      <td>Chrome PC (Cadmium)</td>\n",
              "      <td>00:00:07</td>\n",
              "      <td>00:00:07</td>\n",
              "      <td>NL (Netherlands)</td>\n",
              "    </tr>\n",
              "    <tr>\n",
              "      <th>4</th>\n",
              "      <td>Johan</td>\n",
              "      <td>2021-09-22 18:39:54</td>\n",
              "      <td>01:36:37</td>\n",
              "      <td>NaN</td>\n",
              "      <td>Downton Abbey: Säsong 6: The Finale (Avsnitt 9)</td>\n",
              "      <td>NaN</td>\n",
              "      <td>Chrome PC (Cadmium)</td>\n",
              "      <td>01:36:59</td>\n",
              "      <td>01:36:59</td>\n",
              "      <td>NL (Netherlands)</td>\n",
              "    </tr>\n",
              "  </tbody>\n",
              "</table>\n",
              "</div>"
            ],
            "text/plain": [
              "  Profile Name           Start Time  ... Latest Bookmark           Country\n",
              "0        Johan  2021-09-23 19:27:38  ...        00:00:14  NL (Netherlands)\n",
              "1        Johan  2021-09-23 19:26:23  ...        00:00:11  NL (Netherlands)\n",
              "2        Johan  2021-09-23 19:26:05  ...        00:00:15  NL (Netherlands)\n",
              "3        Johan  2021-09-22 20:31:07  ...        00:00:07  NL (Netherlands)\n",
              "4        Johan  2021-09-22 18:39:54  ...        01:36:59  NL (Netherlands)\n",
              "\n",
              "[5 rows x 10 columns]"
            ]
          },
          "metadata": {},
          "execution_count": 7
        }
      ]
    },
    {
      "cell_type": "code",
      "metadata": {
        "id": "o1lazWBrojft"
      },
      "source": [
        ""
      ],
      "execution_count": null,
      "outputs": []
    }
  ]
}